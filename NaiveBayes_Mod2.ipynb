{
  "nbformat": 4,
  "nbformat_minor": 0,
  "metadata": {
    "colab": {
      "name": "NaiveBayes Mod2.ipynb",
      "provenance": [],
      "collapsed_sections": []
    },
    "kernelspec": {
      "name": "ir",
      "display_name": "R"
    },
    "language_info": {
      "name": "R"
    }
  },
  "cells": [
    {
      "cell_type": "markdown",
      "metadata": {
        "id": "aNPS_qNUL4L9"
      },
      "source": [
        "Naive Bayes Classifier using R"
      ]
    },
    {
      "cell_type": "code",
      "metadata": {
        "colab": {
          "base_uri": "https://localhost:8080/"
        },
        "id": "urTTFEwhNC1B",
        "outputId": "f4a7e4b7-241e-409f-9ad4-92630ae03140"
      },
      "source": [
        "install.packages(\"e1071\")"
      ],
      "execution_count": null,
      "outputs": [
        {
          "output_type": "stream",
          "text": [
            "Installing package into ‘/usr/local/lib/R/site-library’\n",
            "(as ‘lib’ is unspecified)\n",
            "\n",
            "also installing the dependency ‘proxy’\n",
            "\n",
            "\n"
          ],
          "name": "stderr"
        }
      ]
    },
    {
      "cell_type": "code",
      "metadata": {
        "colab": {
          "base_uri": "https://localhost:8080/",
          "height": 165
        },
        "id": "KwLIe1CIL5GZ",
        "outputId": "63435750-1893-4a65-f1cc-8c68f296ac1a"
      },
      "source": [
        "weather<-c(\"good\",\"good\",\"good\",\"bad\",\"bad\",\"good\")\n",
        "temp <- c(\"high\", \"low\", \"low\", \"high\", \"low\", \"low\")\n",
        "golf <- c(\"yes\", \"no\", \"yes\", \"no\", \"yes\" , \"no\")\n",
        "df <- data.frame(weather, temp, golf)\n",
        "df_new <- data.frame(weather = \"good\", temp = \"low\")\n",
        "library(e1071)\n",
        "model <- naiveBayes(golf ~.,data=df)\n",
        "predict(model, df_new)\n",
        "predict(model, df_new, type = \"raw\")"
      ],
      "execution_count": null,
      "outputs": [
        {
          "output_type": "display_data",
          "data": {
            "text/plain": [
              "[1] no\n",
              "Levels: no yes"
            ],
            "text/latex": "no\n\\emph{Levels}: \\begin{enumerate*}\n\\item 'no'\n\\item 'yes'\n\\end{enumerate*}\n",
            "text/markdown": "no\n**Levels**: 1. 'no'\n2. 'yes'\n\n\n",
            "text/html": [
              "no\n",
              "<details>\n",
              "\t<summary style=display:list-item;cursor:pointer>\n",
              "\t\t<strong>Levels</strong>:\n",
              "\t</summary>\n",
              "\t<style>\n",
              "\t.list-inline {list-style: none; margin:0; padding: 0}\n",
              "\t.list-inline>li {display: inline-block}\n",
              "\t.list-inline>li:not(:last-child)::after {content: \"\\00b7\"; padding: 0 .5ex}\n",
              "\t</style>\n",
              "\t<ol class=list-inline><li>'no'</li><li>'yes'</li></ol>\n",
              "</details>"
            ]
          },
          "metadata": {
            "tags": []
          }
        },
        {
          "output_type": "display_data",
          "data": {
            "text/plain": [
              "     no  yes\n",
              "[1,] 0.5 0.5"
            ],
            "text/latex": "A matrix: 1 × 2 of type dbl\n\\begin{tabular}{ll}\n no & yes\\\\\n\\hline\n\t 0.5 & 0.5\\\\\n\\end{tabular}\n",
            "text/markdown": "\nA matrix: 1 × 2 of type dbl\n\n| no | yes |\n|---|---|\n| 0.5 | 0.5 |\n\n",
            "text/html": [
              "<table class=\"dataframe\">\n",
              "<caption>A matrix: 1 × 2 of type dbl</caption>\n",
              "<thead>\n",
              "\t<tr><th scope=col>no</th><th scope=col>yes</th></tr>\n",
              "</thead>\n",
              "<tbody>\n",
              "\t<tr><td>0.5</td><td>0.5</td></tr>\n",
              "</tbody>\n",
              "</table>\n"
            ]
          },
          "metadata": {
            "tags": []
          }
        }
      ]
    },
    {
      "cell_type": "code",
      "metadata": {
        "colab": {
          "base_uri": "https://localhost:8080/"
        },
        "id": "AIiMDg5HNV5E",
        "outputId": "6c7a27b9-4de0-43ab-b0b1-907712f898b4"
      },
      "source": [
        "# Loading data\n",
        "data(iris)\n",
        "   \n",
        "# Structure \n",
        "str(iris)\n",
        "# Installing Packages\n",
        "install.packages(\"e1071\")\n",
        "install.packages(\"caTools\")\n",
        "install.packages(\"caret\")\n",
        "  \n",
        "# Loading package\n",
        "library(e1071)\n",
        "library(caTools)\n",
        "library(caret)"
      ],
      "execution_count": null,
      "outputs": [
        {
          "output_type": "stream",
          "text": [
            "'data.frame':\t150 obs. of  5 variables:\n",
            " $ Sepal.Length: num  5.1 4.9 4.7 4.6 5 5.4 4.6 5 4.4 4.9 ...\n",
            " $ Sepal.Width : num  3.5 3 3.2 3.1 3.6 3.9 3.4 3.4 2.9 3.1 ...\n",
            " $ Petal.Length: num  1.4 1.4 1.3 1.5 1.4 1.7 1.4 1.5 1.4 1.5 ...\n",
            " $ Petal.Width : num  0.2 0.2 0.2 0.2 0.2 0.4 0.3 0.2 0.2 0.1 ...\n",
            " $ Species     : Factor w/ 3 levels \"setosa\",\"versicolor\",..: 1 1 1 1 1 1 1 1 1 1 ...\n"
          ],
          "name": "stdout"
        },
        {
          "output_type": "stream",
          "text": [
            "Installing package into ‘/usr/local/lib/R/site-library’\n",
            "(as ‘lib’ is unspecified)\n",
            "\n",
            "Installing package into ‘/usr/local/lib/R/site-library’\n",
            "(as ‘lib’ is unspecified)\n",
            "\n",
            "also installing the dependency ‘bitops’\n",
            "\n",
            "\n",
            "Installing package into ‘/usr/local/lib/R/site-library’\n",
            "(as ‘lib’ is unspecified)\n",
            "\n",
            "also installing the dependencies ‘numDeriv’, ‘SQUAREM’, ‘lava’, ‘prodlim’, ‘iterators’, ‘gower’, ‘ipred’, ‘timeDate’, ‘foreach’, ‘plyr’, ‘ModelMetrics’, ‘reshape2’, ‘recipes’, ‘pROC’\n",
            "\n",
            "\n",
            "Loading required package: lattice\n",
            "\n",
            "Loading required package: ggplot2\n",
            "\n",
            "Warning message in system(\"timedatectl\", intern = TRUE):\n",
            "“running command 'timedatectl' had status 1”\n"
          ],
          "name": "stderr"
        }
      ]
    },
    {
      "cell_type": "code",
      "metadata": {
        "colab": {
          "base_uri": "https://localhost:8080/",
          "height": 1000
        },
        "id": "H2-Qp__uNcGN",
        "outputId": "97488b33-c5dc-421b-f412-7ff4445309a8"
      },
      "source": [
        "# Splitting data into train\n",
        "# and test data\n",
        "split <- sample.split(iris, SplitRatio = 0.7)\n",
        "train_cl <- subset(iris, split == \"TRUE\")\n",
        "test_cl <- subset(iris, split == \"FALSE\")\n",
        "  \n",
        "# Feature Scaling\n",
        "train_scale <- scale(train_cl[, 1:4])\n",
        "test_scale <- scale(test_cl[, 1:4])\n",
        "  \n",
        "# Fitting Naive Bayes Model \n",
        "# to training dataset\n",
        "set.seed(120)  # Setting Seed\n",
        "classifier_cl <- naiveBayes(Species ~ ., data = train_cl)\n",
        "classifier_cl\n",
        "  \n",
        "# Predicting on test data'\n",
        "y_pred <- predict(classifier_cl, newdata = test_cl)\n",
        "  \n",
        "# Confusion Matrix\n",
        "cm <- table(test_cl$Species, y_pred)\n",
        "cm\n",
        "  \n",
        "# Model Evauation\n",
        "confusionMatrix(cm)"
      ],
      "execution_count": null,
      "outputs": [
        {
          "output_type": "display_data",
          "data": {
            "text/plain": [
              "\n",
              "Naive Bayes Classifier for Discrete Predictors\n",
              "\n",
              "Call:\n",
              "naiveBayes.default(x = X, y = Y, laplace = laplace)\n",
              "\n",
              "A-priori probabilities:\n",
              "Y\n",
              "    setosa versicolor  virginica \n",
              " 0.3333333  0.3333333  0.3333333 \n",
              "\n",
              "Conditional probabilities:\n",
              "            Sepal.Length\n",
              "Y                [,1]      [,2]\n",
              "  setosa     5.013333 0.3224190\n",
              "  versicolor 6.046667 0.5328734\n",
              "  virginica  6.666667 0.6999179\n",
              "\n",
              "            Sepal.Width\n",
              "Y                [,1]      [,2]\n",
              "  setosa     3.426667 0.3956081\n",
              "  versicolor 2.820000 0.3487910\n",
              "  virginica  3.013333 0.3048271\n",
              "\n",
              "            Petal.Length\n",
              "Y                [,1]      [,2]\n",
              "  setosa     1.436667 0.1519604\n",
              "  versicolor 4.330000 0.4235727\n",
              "  virginica  5.576667 0.5922973\n",
              "\n",
              "            Petal.Width\n",
              "Y                 [,1]       [,2]\n",
              "  setosa     0.2466667 0.09371024\n",
              "  versicolor 1.3366667 0.21732438\n",
              "  virginica  2.0500000 0.22244720\n"
            ]
          },
          "metadata": {
            "tags": []
          }
        },
        {
          "output_type": "display_data",
          "data": {
            "text/plain": [
              "            y_pred\n",
              "             setosa versicolor virginica\n",
              "  setosa         20          0         0\n",
              "  versicolor      0         20         0\n",
              "  virginica       0          3        17"
            ]
          },
          "metadata": {
            "tags": []
          }
        },
        {
          "output_type": "display_data",
          "data": {
            "text/plain": [
              "Confusion Matrix and Statistics\n",
              "\n",
              "            y_pred\n",
              "             setosa versicolor virginica\n",
              "  setosa         20          0         0\n",
              "  versicolor      0         20         0\n",
              "  virginica       0          3        17\n",
              "\n",
              "Overall Statistics\n",
              "                                          \n",
              "               Accuracy : 0.95            \n",
              "                 95% CI : (0.8608, 0.9896)\n",
              "    No Information Rate : 0.3833          \n",
              "    P-Value [Acc > NIR] : < 2.2e-16       \n",
              "                                          \n",
              "                  Kappa : 0.925           \n",
              "                                          \n",
              " Mcnemar's Test P-Value : NA              \n",
              "\n",
              "Statistics by Class:\n",
              "\n",
              "                     Class: setosa Class: versicolor Class: virginica\n",
              "Sensitivity                 1.0000            0.8696           1.0000\n",
              "Specificity                 1.0000            1.0000           0.9302\n",
              "Pos Pred Value              1.0000            1.0000           0.8500\n",
              "Neg Pred Value              1.0000            0.9250           1.0000\n",
              "Prevalence                  0.3333            0.3833           0.2833\n",
              "Detection Rate              0.3333            0.3333           0.2833\n",
              "Detection Prevalence        0.3333            0.3333           0.3333\n",
              "Balanced Accuracy           1.0000            0.9348           0.9651"
            ]
          },
          "metadata": {
            "tags": []
          }
        }
      ]
    },
    {
      "cell_type": "markdown",
      "metadata": {
        "id": "8YeRpD7RsZj8"
      },
      "source": [
        "Logistic REgression"
      ]
    },
    {
      "cell_type": "code",
      "metadata": {
        "colab": {
          "base_uri": "https://localhost:8080/"
        },
        "id": "IZgX_gtusxEm",
        "outputId": "2521ff0f-4847-437e-fe27-2f70c3744d16"
      },
      "source": [
        "# Select some columns form mtcars.\n",
        "input <- mtcars[,c(\"am\",\"cyl\",\"hp\",\"wt\")]\n",
        "\n",
        "print(head(input))"
      ],
      "execution_count": 1,
      "outputs": [
        {
          "output_type": "stream",
          "text": [
            "                  am cyl  hp    wt\n",
            "Mazda RX4          1   6 110 2.620\n",
            "Mazda RX4 Wag      1   6 110 2.875\n",
            "Datsun 710         1   4  93 2.320\n",
            "Hornet 4 Drive     0   6 110 3.215\n",
            "Hornet Sportabout  0   8 175 3.440\n",
            "Valiant            0   6 105 3.460\n"
          ],
          "name": "stdout"
        }
      ]
    },
    {
      "cell_type": "code",
      "metadata": {
        "colab": {
          "base_uri": "https://localhost:8080/"
        },
        "id": "i8KoEFBWs5t6",
        "outputId": "a4ef6287-689f-432d-8b5c-8e75119da1c5"
      },
      "source": [
        "input <- mtcars[,c(\"am\",\"cyl\",\"hp\",\"wt\")]\n",
        "\n",
        "am.data = glm(formula = am ~ cyl + hp + wt, data = input, family = binomial)\n",
        "\n",
        "print(summary(am.data))"
      ],
      "execution_count": 2,
      "outputs": [
        {
          "output_type": "stream",
          "text": [
            "\n",
            "Call:\n",
            "glm(formula = am ~ cyl + hp + wt, family = binomial, data = input)\n",
            "\n",
            "Deviance Residuals: \n",
            "     Min        1Q    Median        3Q       Max  \n",
            "-2.17272  -0.14907  -0.01464   0.14116   1.27641  \n",
            "\n",
            "Coefficients:\n",
            "            Estimate Std. Error z value Pr(>|z|)  \n",
            "(Intercept) 19.70288    8.11637   2.428   0.0152 *\n",
            "cyl          0.48760    1.07162   0.455   0.6491  \n",
            "hp           0.03259    0.01886   1.728   0.0840 .\n",
            "wt          -9.14947    4.15332  -2.203   0.0276 *\n",
            "---\n",
            "Signif. codes:  0 ‘***’ 0.001 ‘**’ 0.01 ‘*’ 0.05 ‘.’ 0.1 ‘ ’ 1\n",
            "\n",
            "(Dispersion parameter for binomial family taken to be 1)\n",
            "\n",
            "    Null deviance: 43.2297  on 31  degrees of freedom\n",
            "Residual deviance:  9.8415  on 28  degrees of freedom\n",
            "AIC: 17.841\n",
            "\n",
            "Number of Fisher Scoring iterations: 8\n",
            "\n"
          ],
          "name": "stdout"
        }
      ]
    },
    {
      "cell_type": "markdown",
      "metadata": {
        "id": "7DYVCEDPMy0P"
      },
      "source": [
        "In the output above, the first thing we see is the call, this is R reminding us what the model we ran was, what options we specified, etc.\n",
        "\n",
        "Next we see the deviance residuals, which are a measure of model fit. This part of output shows the distribution of the deviance residuals for individual cases used in the model. \n",
        "\n",
        "The next part of the output shows the coefficients, their standard errors, the z-statistic (sometimes called a Wald z-statistic), and the associated p-values.  The logistic regression coefficients give the change in the log odds of the outcome for a one unit increase in the predictor variable.\n",
        "\n",
        "\n",
        "The indicator variables for rank have a slightly different interpretation.\n",
        "\n",
        "Below the table of coefficients are fit indices, including the null and deviance residuals and the AIC.\n",
        "Lower the null deviance better the model.Lower the residual deviance better the model.Model with relatively lower AIC is better.\n",
        "\n"
      ]
    },
    {
      "cell_type": "code",
      "metadata": {
        "id": "Da6gdWA95YZC"
      },
      "source": [
        "res=predict(am.data,newdata=input,type=\"response\")"
      ],
      "execution_count": 10,
      "outputs": []
    },
    {
      "cell_type": "code",
      "metadata": {
        "colab": {
          "base_uri": "https://localhost:8080/"
        },
        "id": "XDYKHq8xxnkE",
        "outputId": "05be470b-b1bb-4533-c606-9c8a2674f4cb"
      },
      "source": [
        "install.packages(\"caret\")"
      ],
      "execution_count": 4,
      "outputs": [
        {
          "output_type": "stream",
          "text": [
            "Installing package into ‘/usr/local/lib/R/site-library’\n",
            "(as ‘lib’ is unspecified)\n",
            "\n",
            "also installing the dependencies ‘numDeriv’, ‘SQUAREM’, ‘lava’, ‘prodlim’, ‘iterators’, ‘gower’, ‘ipred’, ‘timeDate’, ‘foreach’, ‘plyr’, ‘ModelMetrics’, ‘reshape2’, ‘recipes’, ‘pROC’\n",
            "\n",
            "\n"
          ],
          "name": "stderr"
        }
      ]
    },
    {
      "cell_type": "code",
      "metadata": {
        "colab": {
          "base_uri": "https://localhost:8080/",
          "height": 861
        },
        "id": "9pMWYm-AtQJr",
        "outputId": "ae28664b-c7e2-470b-b8b2-fa16da731a69"
      },
      "source": [
        "\n",
        "library(\"caret\")\n",
        "data<-read.csv(\"heart.csv\")\n",
        "ind<-createDataPartition(data$target,p=.70,list = F)\n",
        "head(data)\n",
        "\n",
        "training<-data[ind,]\n",
        "\n",
        "testing<-data[-ind,]\n",
        "model<-glm(target~.,family=\"binomial\",data=training)\n",
        "\n",
        "summary(model)"
      ],
      "execution_count": 15,
      "outputs": [
        {
          "output_type": "display_data",
          "data": {
            "text/plain": [
              "  age sex cp trestbps chol fbs restecg thalach exang oldpeak slope ca thal\n",
              "1 63  1   3  145      233  1   0       150     0     2.3     0     0  1   \n",
              "2 37  1   2  130      250  0   1       187     0     3.5     0     0  2   \n",
              "3 41  0   1  130      204  0   0       172     0     1.4     2     0  2   \n",
              "4 56  1   1  120      236  0   1       178     0     0.8     2     0  2   \n",
              "5 57  0   0  120      354  0   1       163     1     0.6     2     0  2   \n",
              "6 57  1   0  140      192  0   1       148     0     0.4     1     0  1   \n",
              "  target\n",
              "1 1     \n",
              "2 1     \n",
              "3 1     \n",
              "4 1     \n",
              "5 1     \n",
              "6 1     "
            ],
            "text/latex": "A data.frame: 6 × 14\n\\begin{tabular}{r|llllllllllllll}\n  & age & sex & cp & trestbps & chol & fbs & restecg & thalach & exang & oldpeak & slope & ca & thal & target\\\\\n  & <int> & <int> & <int> & <int> & <int> & <int> & <int> & <int> & <int> & <dbl> & <int> & <int> & <int> & <int>\\\\\n\\hline\n\t1 & 63 & 1 & 3 & 145 & 233 & 1 & 0 & 150 & 0 & 2.3 & 0 & 0 & 1 & 1\\\\\n\t2 & 37 & 1 & 2 & 130 & 250 & 0 & 1 & 187 & 0 & 3.5 & 0 & 0 & 2 & 1\\\\\n\t3 & 41 & 0 & 1 & 130 & 204 & 0 & 0 & 172 & 0 & 1.4 & 2 & 0 & 2 & 1\\\\\n\t4 & 56 & 1 & 1 & 120 & 236 & 0 & 1 & 178 & 0 & 0.8 & 2 & 0 & 2 & 1\\\\\n\t5 & 57 & 0 & 0 & 120 & 354 & 0 & 1 & 163 & 1 & 0.6 & 2 & 0 & 2 & 1\\\\\n\t6 & 57 & 1 & 0 & 140 & 192 & 0 & 1 & 148 & 0 & 0.4 & 1 & 0 & 1 & 1\\\\\n\\end{tabular}\n",
            "text/markdown": "\nA data.frame: 6 × 14\n\n| <!--/--> | age &lt;int&gt; | sex &lt;int&gt; | cp &lt;int&gt; | trestbps &lt;int&gt; | chol &lt;int&gt; | fbs &lt;int&gt; | restecg &lt;int&gt; | thalach &lt;int&gt; | exang &lt;int&gt; | oldpeak &lt;dbl&gt; | slope &lt;int&gt; | ca &lt;int&gt; | thal &lt;int&gt; | target &lt;int&gt; |\n|---|---|---|---|---|---|---|---|---|---|---|---|---|---|---|\n| 1 | 63 | 1 | 3 | 145 | 233 | 1 | 0 | 150 | 0 | 2.3 | 0 | 0 | 1 | 1 |\n| 2 | 37 | 1 | 2 | 130 | 250 | 0 | 1 | 187 | 0 | 3.5 | 0 | 0 | 2 | 1 |\n| 3 | 41 | 0 | 1 | 130 | 204 | 0 | 0 | 172 | 0 | 1.4 | 2 | 0 | 2 | 1 |\n| 4 | 56 | 1 | 1 | 120 | 236 | 0 | 1 | 178 | 0 | 0.8 | 2 | 0 | 2 | 1 |\n| 5 | 57 | 0 | 0 | 120 | 354 | 0 | 1 | 163 | 1 | 0.6 | 2 | 0 | 2 | 1 |\n| 6 | 57 | 1 | 0 | 140 | 192 | 0 | 1 | 148 | 0 | 0.4 | 1 | 0 | 1 | 1 |\n\n",
            "text/html": [
              "<table class=\"dataframe\">\n",
              "<caption>A data.frame: 6 × 14</caption>\n",
              "<thead>\n",
              "\t<tr><th></th><th scope=col>age</th><th scope=col>sex</th><th scope=col>cp</th><th scope=col>trestbps</th><th scope=col>chol</th><th scope=col>fbs</th><th scope=col>restecg</th><th scope=col>thalach</th><th scope=col>exang</th><th scope=col>oldpeak</th><th scope=col>slope</th><th scope=col>ca</th><th scope=col>thal</th><th scope=col>target</th></tr>\n",
              "\t<tr><th></th><th scope=col>&lt;int&gt;</th><th scope=col>&lt;int&gt;</th><th scope=col>&lt;int&gt;</th><th scope=col>&lt;int&gt;</th><th scope=col>&lt;int&gt;</th><th scope=col>&lt;int&gt;</th><th scope=col>&lt;int&gt;</th><th scope=col>&lt;int&gt;</th><th scope=col>&lt;int&gt;</th><th scope=col>&lt;dbl&gt;</th><th scope=col>&lt;int&gt;</th><th scope=col>&lt;int&gt;</th><th scope=col>&lt;int&gt;</th><th scope=col>&lt;int&gt;</th></tr>\n",
              "</thead>\n",
              "<tbody>\n",
              "\t<tr><th scope=row>1</th><td>63</td><td>1</td><td>3</td><td>145</td><td>233</td><td>1</td><td>0</td><td>150</td><td>0</td><td>2.3</td><td>0</td><td>0</td><td>1</td><td>1</td></tr>\n",
              "\t<tr><th scope=row>2</th><td>37</td><td>1</td><td>2</td><td>130</td><td>250</td><td>0</td><td>1</td><td>187</td><td>0</td><td>3.5</td><td>0</td><td>0</td><td>2</td><td>1</td></tr>\n",
              "\t<tr><th scope=row>3</th><td>41</td><td>0</td><td>1</td><td>130</td><td>204</td><td>0</td><td>0</td><td>172</td><td>0</td><td>1.4</td><td>2</td><td>0</td><td>2</td><td>1</td></tr>\n",
              "\t<tr><th scope=row>4</th><td>56</td><td>1</td><td>1</td><td>120</td><td>236</td><td>0</td><td>1</td><td>178</td><td>0</td><td>0.8</td><td>2</td><td>0</td><td>2</td><td>1</td></tr>\n",
              "\t<tr><th scope=row>5</th><td>57</td><td>0</td><td>0</td><td>120</td><td>354</td><td>0</td><td>1</td><td>163</td><td>1</td><td>0.6</td><td>2</td><td>0</td><td>2</td><td>1</td></tr>\n",
              "\t<tr><th scope=row>6</th><td>57</td><td>1</td><td>0</td><td>140</td><td>192</td><td>0</td><td>1</td><td>148</td><td>0</td><td>0.4</td><td>1</td><td>0</td><td>1</td><td>1</td></tr>\n",
              "</tbody>\n",
              "</table>\n"
            ]
          },
          "metadata": {
            "tags": []
          }
        },
        {
          "output_type": "display_data",
          "data": {
            "text/plain": [
              "\n",
              "Call:\n",
              "glm(formula = target ~ ., family = \"binomial\", data = training)\n",
              "\n",
              "Deviance Residuals: \n",
              "    Min       1Q   Median       3Q      Max  \n",
              "-2.4461  -0.3524   0.1094   0.5221   2.3085  \n",
              "\n",
              "Coefficients:\n",
              "             Estimate Std. Error z value Pr(>|z|)    \n",
              "(Intercept)  3.199673   3.148819   1.016 0.309558    \n",
              "age         -0.001278   0.030401  -0.042 0.966461    \n",
              "sex         -2.544942   0.637178  -3.994 6.49e-05 ***\n",
              "cp           0.711414   0.229606   3.098 0.001946 ** \n",
              "trestbps    -0.016612   0.012809  -1.297 0.194690    \n",
              "chol        -0.009348   0.004573  -2.044 0.040917 *  \n",
              "fbs          0.120498   0.635956   0.189 0.849721    \n",
              "restecg      0.403954   0.437748   0.923 0.356111    \n",
              "thalach      0.036455   0.014091   2.587 0.009679 ** \n",
              "exang       -1.640422   0.544015  -3.015 0.002566 ** \n",
              "oldpeak     -0.304932   0.279483  -1.091 0.275246    \n",
              "slope        0.573437   0.445215   1.288 0.197746    \n",
              "ca          -0.885174   0.243327  -3.638 0.000275 ***\n",
              "thal        -1.122395   0.340890  -3.293 0.000993 ***\n",
              "---\n",
              "Signif. codes:  0 ‘***’ 0.001 ‘**’ 0.01 ‘*’ 0.05 ‘.’ 0.1 ‘ ’ 1\n",
              "\n",
              "(Dispersion parameter for binomial family taken to be 1)\n",
              "\n",
              "    Null deviance: 292.79  on 212  degrees of freedom\n",
              "Residual deviance: 142.01  on 199  degrees of freedom\n",
              "AIC: 170.01\n",
              "\n",
              "Number of Fisher Scoring iterations: 6\n"
            ]
          },
          "metadata": {
            "tags": []
          }
        }
      ]
    },
    {
      "cell_type": "code",
      "metadata": {
        "id": "em7RoRrl3aWk"
      },
      "source": [
        "res<-predict(model,training,type=\"response\")"
      ],
      "execution_count": 16,
      "outputs": []
    },
    {
      "cell_type": "markdown",
      "metadata": {
        "id": "pt_XREUm9hLJ"
      },
      "source": [
        "How to find the threshold value"
      ]
    },
    {
      "cell_type": "code",
      "metadata": {
        "colab": {
          "base_uri": "https://localhost:8080/"
        },
        "id": "vvxvU_7i9o7q",
        "outputId": "12b22f58-5018-45dc-9312-a738c47d3c1c"
      },
      "source": [
        "install.packages(\"ROCR\")"
      ],
      "execution_count": 18,
      "outputs": [
        {
          "output_type": "stream",
          "text": [
            "Installing package into ‘/usr/local/lib/R/site-library’\n",
            "(as ‘lib’ is unspecified)\n",
            "\n",
            "also installing the dependencies ‘bitops’, ‘gtools’, ‘caTools’, ‘gplots’\n",
            "\n",
            "\n"
          ],
          "name": "stderr"
        }
      ]
    },
    {
      "cell_type": "code",
      "metadata": {
        "colab": {
          "base_uri": "https://localhost:8080/",
          "height": 437
        },
        "id": "7uT7S8z29Mdh",
        "outputId": "9b660ed2-6747-4875-c68e-9aebf8d6e291"
      },
      "source": [
        "library(ROCR)\n",
        "\n",
        "ROCRPred=prediction(res,training$target)\n",
        "\n",
        "ROCRPerf<-performance(ROCRPred,\"tpr\",\"fpr\")\n",
        "\n",
        "plot(ROCRPerf,colorize=TRUE,print.cutoffs.at=seq(0.1,by=0.1))"
      ],
      "execution_count": 19,
      "outputs": [
        {
          "output_type": "display_data",
          "data": {
            "image/png": "[encoded data removed]",
            "text/plain": [
              "plot without title"
            ]
          },
          "metadata": {
            "tags": [],
            "image/png": {
              "width": 420,
              "height": 420
            }
          }
        }
      ]
    },
    {
      "cell_type": "markdown",
      "metadata": {
        "id": "xDKS85AX-K_W"
      },
      "source": [
        "While selecting the threshold value, we should take care that true positive rate should be maximum and false negative rate should be minimum. Because, if a person is having disease, but the model is predicting that he is not having disease, it may cost someone’s life\n",
        "\n",
        "The plot shows that if we take threshold=0.4, true positive rate increase."
      ]
    },
    {
      "cell_type": "code",
      "metadata": {
        "colab": {
          "base_uri": "https://localhost:8080/",
          "height": 85
        },
        "id": "9Lh7CS_4-Pxb",
        "outputId": "05c6806f-443c-4a44-f3a2-9978cdc6ace9"
      },
      "source": [
        "res<-predict(model,testing,type=\"response\")\n",
        "\n",
        "cm<-table(Actualvalue=testing$target,Predictedvalue=res>0.4)\n",
        "cm"
      ],
      "execution_count": 21,
      "outputs": [
        {
          "output_type": "display_data",
          "data": {
            "text/plain": [
              "           Predictedvalue\n",
              "Actualvalue FALSE TRUE\n",
              "          0    34    9\n",
              "          1     7   40"
            ]
          },
          "metadata": {
            "tags": []
          }
        }
      ]
    },
    {
      "cell_type": "code",
      "metadata": {
        "colab": {
          "base_uri": "https://localhost:8080/",
          "height": 437
        },
        "id": "_mO-oTAh7BB2",
        "outputId": "e653e86c-94c0-44c6-f682-1649dcf74022"
      },
      "source": [
        "#fit logistic regression model\n",
        "model <- glm(vs ~ hp, data=mtcars, family=binomial)\n",
        "\n",
        "#define new data frame that contains predictor variable\n",
        "newdata <- data.frame(hp=seq(min(mtcars$hp), max(mtcars$hp),len=500))\n",
        "\n",
        "#use fitted model to predict values of vs\n",
        "newdata$vs = predict(model, newdata, type=\"response\")\n",
        "\n",
        "#plot logistic regression curve\n",
        "plot(vs ~ hp, data=mtcars, col=\"steelblue\")\n",
        "lines(vs ~ hp, newdata, lwd=2)"
      ],
      "execution_count": 13,
      "outputs": [
        {
          "output_type": "display_data",
          "data": {
            "image/png": "[encoded data removed]",
            "text/plain": [
              "plot without title"
            ]
          },
          "metadata": {
            "tags": [],
            "image/png": {
              "width": 420,
              "height": 420
            }
          }
        }
      ]
    },
    {
      "cell_type": "markdown",
      "metadata": {
        "id": "xPdy51_O-3qN"
      },
      "source": [
        "Coefficient"
      ]
    },
    {
      "cell_type": "code",
      "metadata": {
        "colab": {
          "base_uri": "https://localhost:8080/",
          "height": 85
        },
        "id": "SSxaxYJC-5uv",
        "outputId": "574ccefc-6728-4760-af85-8d13092627d4"
      },
      "source": [
        "coefficients(model)"
      ],
      "execution_count": 22,
      "outputs": [
        {
          "output_type": "display_data",
          "data": {
            "text/plain": [
              " (Intercept)          age          sex           cp     trestbps         chol \n",
              " 3.199672875 -0.001278244 -2.544941658  0.711413743 -0.016611612 -0.009348308 \n",
              "         fbs      restecg      thalach        exang      oldpeak        slope \n",
              " 0.120497812  0.403954427  0.036455218 -1.640421651 -0.304932359  0.573436845 \n",
              "          ca         thal \n",
              "-0.885173824 -1.122394654 "
            ],
            "text/latex": "\\begin{description*}\n\\item[(Intercept)] 3.19967287544549\n\\item[age] -0.00127824402905831\n\\item[sex] -2.5449416579293\n\\item[cp] 0.711413742995497\n\\item[trestbps] -0.0166116121551946\n\\item[chol] -0.00934830824391519\n\\item[fbs] 0.120497812330858\n\\item[restecg] 0.403954426740986\n\\item[thalach] 0.036455218013523\n\\item[exang] -1.6404216506557\n\\item[oldpeak] -0.304932359145132\n\\item[slope] 0.57343684471635\n\\item[ca] -0.885173823520658\n\\item[thal] -1.12239465369314\n\\end{description*}\n",
            "text/markdown": "(Intercept)\n:   3.19967287544549age\n:   -0.00127824402905831sex\n:   -2.5449416579293cp\n:   0.711413742995497trestbps\n:   -0.0166116121551946chol\n:   -0.00934830824391519fbs\n:   0.120497812330858restecg\n:   0.403954426740986thalach\n:   0.036455218013523exang\n:   -1.6404216506557oldpeak\n:   -0.304932359145132slope\n:   0.57343684471635ca\n:   -0.885173823520658thal\n:   -1.12239465369314\n\n",
            "text/html": [
              "<style>\n",
              ".dl-inline {width: auto; margin:0; padding: 0}\n",
              ".dl-inline>dt, .dl-inline>dd {float: none; width: auto; display: inline-block}\n",
              ".dl-inline>dt::after {content: \":\\0020\"; padding-right: .5ex}\n",
              ".dl-inline>dt:not(:first-of-type) {padding-left: .5ex}\n",
              "</style><dl class=dl-inline><dt>(Intercept)</dt><dd>3.19967287544549</dd><dt>age</dt><dd>-0.00127824402905831</dd><dt>sex</dt><dd>-2.5449416579293</dd><dt>cp</dt><dd>0.711413742995497</dd><dt>trestbps</dt><dd>-0.0166116121551946</dd><dt>chol</dt><dd>-0.00934830824391519</dd><dt>fbs</dt><dd>0.120497812330858</dd><dt>restecg</dt><dd>0.403954426740986</dd><dt>thalach</dt><dd>0.036455218013523</dd><dt>exang</dt><dd>-1.6404216506557</dd><dt>oldpeak</dt><dd>-0.304932359145132</dd><dt>slope</dt><dd>0.57343684471635</dd><dt>ca</dt><dd>-0.885173823520658</dd><dt>thal</dt><dd>-1.12239465369314</dd></dl>\n"
            ]
          },
          "metadata": {
            "tags": []
          }
        }
      ]
    }
  ]
}